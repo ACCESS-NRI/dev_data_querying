{
 "cells": [
  {
   "cell_type": "markdown",
   "id": "61f46256-be08-47f9-b68b-b854dfd6513e",
   "metadata": {},
   "source": [
    "# Compare COSIMA cookbook catalogue to basic intake ESM catalogue"
   ]
  },
  {
   "cell_type": "code",
   "execution_count": 1,
   "id": "24c75403-ea0f-44ff-a98f-3aec3a1ddf0e",
   "metadata": {},
   "outputs": [],
   "source": [
    "import glob\n",
    " \n",
    "import pathlib\n",
    "\n",
    "import xarray as xr\n",
    "\n",
    "from distributed import Client\n",
    "\n",
    "# xr.backends.file_manager.FILE_CACHE.clear()"
   ]
  },
  {
   "cell_type": "code",
   "execution_count": 2,
   "id": "4deffcdd-3e4f-43df-8522-75a3212055a8",
   "metadata": {},
   "outputs": [
    {
     "name": "stdout",
     "output_type": "stream",
     "text": [
      "Dask dashboard at: http://127.0.0.1:8787/status\n"
     ]
    }
   ],
   "source": [
    "# This is really only so that we can visualise the computations that use dask using the dask-dashboard\n",
    "client = Client()\n",
    "print(f\"Dask dashboard at: {client.dashboard_link}\")"
   ]
  },
  {
   "cell_type": "markdown",
   "id": "0875e05b-9654-4f7f-90ef-8d941d32528a",
   "metadata": {},
   "source": [
    "## Let's index one experiment containing 5.5TB of data spread across slightly over 2000 netcdf files"
   ]
  },
  {
   "cell_type": "code",
   "execution_count": 3,
   "id": "c8b6fc90-5d76-41f8-8691-4becaeb43596",
   "metadata": {},
   "outputs": [],
   "source": [
    "index_directory = \"/g/data/ik11/outputs/access-om2-025/025deg_jra55_iaf_omip2_cycle6\""
   ]
  },
  {
   "cell_type": "markdown",
   "id": "89f274cc-4fce-4c4d-bdd3-e7af8290bd4e",
   "metadata": {},
   "source": [
    "----------------\n",
    "\n",
    "## 1. Index and load some data from an experiment using the cosima cookbook approach"
   ]
  },
  {
   "cell_type": "markdown",
   "id": "b70a4921-404c-4de4-8cb9-181a765fb0ab",
   "metadata": {
    "tags": []
   },
   "source": [
    "### Build the cosima database with a multithreaded client similar to the approach used by `ecgtools` below"
   ]
  },
  {
   "cell_type": "code",
   "execution_count": 4,
   "id": "2fbbc323-aec4-49cd-a623-1a71e259ca06",
   "metadata": {},
   "outputs": [],
   "source": [
    "import cosima_cookbook as cc"
   ]
  },
  {
   "cell_type": "code",
   "execution_count": 5,
   "id": "c41bad8d-007e-44f3-92dd-701da0559513",
   "metadata": {},
   "outputs": [],
   "source": [
    "db = \"cosima_cookbook_test.db\"\n",
    "session = cc.database.create_session(db)"
   ]
  },
  {
   "cell_type": "code",
   "execution_count": 6,
   "id": "d03b3eca-3c11-4da9-8170-fb4ca88c0d22",
   "metadata": {},
   "outputs": [
    {
     "name": "stdout",
     "output_type": "stream",
     "text": [
      "Indexing experiment: 025deg_jra55_iaf_omip2_cycle6\n"
     ]
    },
    {
     "name": "stderr",
     "output_type": "stream",
     "text": [
      " 11%|█         | 106/1000 [00:22<01:36,  9.29it/s]ERROR:root:Error indexing /g/data/ik11/outputs/access-om2-025/025deg_jra55_iaf_omip2_cycle6/restart314/ice/kmt.nc: 'nEdits'\n",
      " 30%|███       | 305/1000 [01:08<01:46,  6.54it/s]ERROR:root:Error indexing /g/data/ik11/outputs/access-om2-025/025deg_jra55_iaf_omip2_cycle6/restart324/ice/kmt.nc: 'nEdits'\n",
      " 38%|███▊      | 379/1000 [01:27<02:35,  4.00it/s]ERROR:root:Error indexing /g/data/ik11/outputs/access-om2-025/025deg_jra55_iaf_omip2_cycle6/restart319/ice/kmt.nc: 'nEdits'\n",
      " 47%|████▋     | 473/1000 [01:49<01:00,  8.67it/s]ERROR:root:Error indexing /g/data/ik11/outputs/access-om2-025/025deg_jra55_iaf_omip2_cycle6/restart329/ice/kmt.nc: 'nEdits'\n",
      " 56%|█████▌    | 561/1000 [02:18<01:58,  3.70it/s]ERROR:root:Error indexing /g/data/ik11/outputs/access-om2-025/025deg_jra55_iaf_omip2_cycle6/restart304/ice/kmt.nc: 'nEdits'\n",
      " 69%|██████▉   | 690/1000 [02:51<01:00,  5.15it/s]ERROR:root:Error indexing /g/data/ik11/outputs/access-om2-025/025deg_jra55_iaf_omip2_cycle6/restart339/ice/kmt.nc: 'nEdits'\n",
      " 97%|█████████▋| 969/1000 [04:11<00:06,  4.44it/s]ERROR:root:Error indexing /g/data/ik11/outputs/access-om2-025/025deg_jra55_iaf_omip2_cycle6/restart364/ice/kmt.nc: 'nEdits'\n",
      " 99%|█████████▊| 987/1000 [04:14<00:04,  3.10it/s]ERROR:root:Error indexing /g/data/ik11/outputs/access-om2-025/025deg_jra55_iaf_omip2_cycle6/restart365/ice/kmt.nc: 'nEdits'\n",
      "100%|█████████▉| 995/1000 [04:16<00:01,  3.69it/s]ERROR:root:Error indexing /g/data/ik11/outputs/access-om2-025/025deg_jra55_iaf_omip2_cycle6/restart349/ice/kmt.nc: 'nEdits'\n",
      "100%|██████████| 1000/1000 [04:17<00:00,  3.88it/s]\n",
      "  2%|▏         | 16/1000 [00:04<04:47,  3.43it/s]ERROR:root:Error indexing /g/data/ik11/outputs/access-om2-025/025deg_jra55_iaf_omip2_cycle6/restart344/ice/kmt.nc: 'nEdits'\n",
      " 14%|█▍        | 145/1000 [00:47<03:26,  4.14it/s]ERROR:root:Error indexing /g/data/ik11/outputs/access-om2-025/025deg_jra55_iaf_omip2_cycle6/restart359/ice/kmt.nc: 'nEdits'\n",
      " 16%|█▋        | 165/1000 [00:53<04:39,  2.99it/s]ERROR:root:Error indexing /g/data/ik11/outputs/access-om2-025/025deg_jra55_iaf_omip2_cycle6/restart309/ice/kmt.nc: 'nEdits'\n",
      " 30%|██▉       | 296/1000 [01:34<02:49,  4.15it/s]ERROR:root:Error indexing /g/data/ik11/outputs/access-om2-025/025deg_jra55_iaf_omip2_cycle6/restart354/ice/kmt.nc: 'nEdits'\n",
      " 43%|████▎     | 434/1000 [02:20<03:19,  2.84it/s]ERROR:root:Error indexing /g/data/ik11/outputs/access-om2-025/025deg_jra55_iaf_omip2_cycle6/restart334/ice/kmt.nc: 'nEdits'\n",
      "100%|██████████| 1000/1000 [05:24<00:00,  3.08it/s]\n",
      "100%|██████████| 171/171 [00:55<00:00,  3.09it/s]\n"
     ]
    },
    {
     "name": "stdout",
     "output_type": "stream",
     "text": [
      "CPU times: user 4min 42s, sys: 1min 6s, total: 5min 48s\n",
      "Wall time: 12min 9s\n"
     ]
    },
    {
     "data": {
      "text/plain": [
       "2171"
      ]
     },
     "execution_count": 6,
     "metadata": {},
     "output_type": "execute_result"
    }
   ],
   "source": [
    "%%time\n",
    "\n",
    "cc.database.build_index([index_directory], session)"
   ]
  },
  {
   "cell_type": "markdown",
   "id": "2b5a8594-190c-48f4-8d29-29112bb0c71d",
   "metadata": {},
   "source": [
    "### Load and process/plot some data"
   ]
  },
  {
   "cell_type": "code",
   "execution_count": 6,
   "id": "da0ccb0c-c80f-4c2b-ac3f-8d85b7df8e20",
   "metadata": {},
   "outputs": [
    {
     "name": "stdout",
     "output_type": "stream",
     "text": [
      "CPU times: user 1.22 s, sys: 175 ms, total: 1.39 s\n",
      "Wall time: 4.51 s\n"
     ]
    }
   ],
   "source": [
    "%%time\n",
    "\n",
    "experiment = '025deg_jra55_iaf_omip2_cycle6'\n",
    "\n",
    "sst = cc.querying.getvar(experiment, \"sst\", session, ncfile=\"ocean_month.nc\")\n",
    "area = cc.querying.getvar(experiment, \"area_t\", session, ncfile=\"ocean_grid.nc\", n=1)"
   ]
  },
  {
   "cell_type": "code",
   "execution_count": 7,
   "id": "c0466733-e585-4ecc-bf08-b3ccdba21264",
   "metadata": {},
   "outputs": [
    {
     "name": "stdout",
     "output_type": "stream",
     "text": [
      "CPU times: user 1min 1s, sys: 3.45 s, total: 1min 4s\n",
      "Wall time: 1min 19s\n"
     ]
    },
    {
     "data": {
      "image/png": "[encoded data removed]",
      "text/plain": [
       "<Figure size 640x480 with 1 Axes>"
      ]
     },
     "metadata": {},
     "output_type": "display_data"
    }
   ],
   "source": [
    "%%time\n",
    "\n",
    "global_mean = sst.weighted(area.fillna(0)).mean([\"xt_ocean\", \"yt_ocean\"])\n",
    "_ = global_mean.plot()"
   ]
  },
  {
   "cell_type": "markdown",
   "id": "6bd17281-f264-42ea-a24f-50d9c27ab18c",
   "metadata": {},
   "source": [
    "----------------\n",
    "\n",
    "## 2. Index and load some data from an experiment using ecgtools and intake-esm"
   ]
  },
  {
   "cell_type": "code",
   "execution_count": 4,
   "id": "43844e49-5a2f-4593-a72f-9c9aa5033871",
   "metadata": {},
   "outputs": [],
   "source": [
    "import traceback\n",
    "\n",
    "import cftime\n",
    "\n",
    "from ecgtools import Builder\n",
    "from ecgtools.builder import INVALID_ASSET, TRACEBACK\n",
    "from ecgtools.parsers.utilities import extract_attr_with_regex"
   ]
  },
  {
   "cell_type": "markdown",
   "id": "4531127a-6cae-4fd7-8a9a-0416cfe8d112",
   "metadata": {},
   "source": [
    "### Build and save the catalogue"
   ]
  },
  {
   "cell_type": "code",
   "execution_count": 5,
   "id": "9491cffb-a7b6-425d-8790-a465f12611ed",
   "metadata": {},
   "outputs": [],
   "source": [
    "from cosima_cookbook import netcdf_utils\n",
    "\n",
    "def parse_cc(file):\n",
    "    \"\"\"Quick hacked parser for COSIMA datasets\"\"\"\n",
    "    def _get_timeinfo(ds):\n",
    "        \"\"\"\n",
    "        Stolen and slightly adapted from cosima cookbook \n",
    "        https://github.com/COSIMA/cosima-cookbook/blob/master/cosima_cookbook/database.py#L565\n",
    "        \"\"\"\n",
    "        time_dim = \"time\" # TODO: this probably shouldn't be hardcoded\n",
    "        if time_dim is None:\n",
    "            return None\n",
    "\n",
    "        time_var = ds[time_dim]\n",
    "        has_bounds = hasattr(time_var, \"bounds\") and time_var.bounds in ds.variables\n",
    "        \n",
    "        def _todate(t):\n",
    "            return cftime.num2date(t, time_var.units, calendar=time_var.calendar)\n",
    "    \n",
    "        if has_bounds:\n",
    "            bounds_var = ds.variables[time_var.bounds]\n",
    "            start_time = _todate(bounds_var[0, 0])\n",
    "            end_time = _todate(bounds_var[-1, 1])\n",
    "        else:\n",
    "            start_time = _todate(time_var[0])\n",
    "            end_time = _todate(time_var[-1])\n",
    "        \n",
    "        if len(time_var) > 1 or has_bounds:\n",
    "            if has_bounds:\n",
    "                next_time = _todate(bounds_var[0, 1])\n",
    "            else:\n",
    "                next_time = _todate(time_var[1])\n",
    "\n",
    "            dt = next_time - start_time\n",
    "            if dt.days >= 365:\n",
    "                years = round(dt.days / 365)\n",
    "                frequency = f\"{years} yearly\"\n",
    "            elif dt.days >= 28:\n",
    "                months = round(dt.days / 30)\n",
    "                frequency = f\"{months} monthly\"\n",
    "            elif dt.days >= 1:\n",
    "                frequency = f\"{dt.days} daily\"\n",
    "            else:\n",
    "                frequency = f\"{dt.seconds // 3600} hourly\"\n",
    "        else:\n",
    "            # single time value in this file and no averaging\n",
    "            frequency = \"static\"\n",
    "            \n",
    "        return start_time.strftime(\"%Y-%m-%d\"), end_time.strftime(\"%Y-%m-%d\"), frequency\n",
    "        \n",
    "    path = pathlib.Path(file)\n",
    "    \n",
    "    try:\n",
    "        path_parts = path.parts\n",
    "        filename = path.stem\n",
    "        # TODO: this can be done better\n",
    "        # First 5 parts are /,g,data,ik11,outputs,access-om2\n",
    "        experiment = path_parts[6]\n",
    "        output = path_parts[7]\n",
    "        realm = path_parts[8]\n",
    "\n",
    "        with xr.open_dataset(file, chunks={}, decode_times=False) as ds:\n",
    "            variable_list = [var for var in ds if 'long_name' in ds[var].attrs]\n",
    "\n",
    "        info = {\n",
    "                \"experiment\": experiment,\n",
    "                \"output\": output,\n",
    "                \"realm\": realm,\n",
    "                \"variables\": variable_list,\n",
    "                'filename': filename,\n",
    "                \"path\": str(file),\n",
    "            }\n",
    "        info[\"start_time\"], info[\"end_time\"], info[\"frequency\"] = _get_timeinfo(ds)\n",
    "\n",
    "        return info\n",
    "\n",
    "    except Exception:\n",
    "        return {INVALID_ASSET: file, TRACEBACK: traceback.format_exc()}"
   ]
  },
  {
   "cell_type": "code",
   "execution_count": 6,
   "id": "9f67eb65-9d0d-44f7-ab47-d84d6ce3e62e",
   "metadata": {},
   "outputs": [
    {
     "name": "stderr",
     "output_type": "stream",
     "text": [
      "[Parallel(n_jobs=-1)]: Using backend LokyBackend with 12 concurrent workers.\n",
      "[Parallel(n_jobs=-1)]: Done  48 tasks      | elapsed:    0.8s\n",
      "[Parallel(n_jobs=-1)]: Done  71 out of  78 | elapsed:    0.8s remaining:    0.1s\n",
      "[Parallel(n_jobs=-1)]: Done  78 out of  78 | elapsed:    1.1s finished\n",
      "[Parallel(n_jobs=-1)]: Using backend LokyBackend with 12 concurrent workers.\n",
      "[Parallel(n_jobs=-1)]: Done  48 tasks      | elapsed:    1.3s\n",
      "[Parallel(n_jobs=-1)]: Done 288 tasks      | elapsed:    3.1s\n",
      "[Parallel(n_jobs=-1)]: Done 792 tasks      | elapsed:    6.5s\n",
      "[Parallel(n_jobs=-1)]: Done 1440 tasks      | elapsed:   10.9s\n"
     ]
    },
    {
     "name": "stdout",
     "output_type": "stream",
     "text": [
      "Saved catalog location: cosima_cookbook_test.json and cosima_cookbook_test.csv\n",
      "CPU times: user 1.63 s, sys: 250 ms, total: 1.88 s\n",
      "Wall time: 15.1 s\n"
     ]
    },
    {
     "name": "stderr",
     "output_type": "stream",
     "text": [
      "[Parallel(n_jobs=-1)]: Done 1891 out of 1891 | elapsed:   13.8s finished\n"
     ]
    }
   ],
   "source": [
    "%%time\n",
    "\n",
    "cc_builder = Builder(\n",
    "    index_directory,\n",
    "    depth=0,\n",
    "    exclude_patterns=[\"*/restart*/*\"], # Exclude restart directories\n",
    "    njobs=-1,\n",
    ")\n",
    "\n",
    "cc_builder = cc_builder.build(parsing_func=parse_cc)\n",
    "\n",
    "cc_builder.save(\n",
    "    \"cosima_cookbook_test.csv\",\n",
    "    path_column_name='path',\n",
    "    variable_column_name='variables',\n",
    "    data_format=\"netcdf\",\n",
    "    # Which attributes to groupby when reading in variables using intake-esm\n",
    "    groupby_attrs=[\"experiment\", \"filename\"],\n",
    "    aggregations=[\n",
    "        {\n",
    "            \"type\": \"join_existing\",\n",
    "            \"attribute_name\": \"start_time\",\n",
    "            \"options\": {\"dim\": \"time\", \"coords\": \"minimal\", \"compat\": \"override\"},\n",
    "        }\n",
    "    ],\n",
    ")"
   ]
  },
  {
   "cell_type": "code",
   "execution_count": 8,
   "id": "8bf5a15c-a3d1-441a-a298-86e45ad74dfe",
   "metadata": {},
   "outputs": [
    {
     "data": {
      "text/html": [
       "<div>\n",
       "<style scoped>\n",
       "    .dataframe tbody tr th:only-of-type {\n",
       "        vertical-align: middle;\n",
       "    }\n",
       "\n",
       "    .dataframe tbody tr th {\n",
       "        vertical-align: top;\n",
       "    }\n",
       "\n",
       "    .dataframe thead th {\n",
       "        text-align: right;\n",
       "    }\n",
       "</style>\n",
       "<table border=\"1\" class=\"dataframe\">\n",
       "  <thead>\n",
       "    <tr style=\"text-align: right;\">\n",
       "      <th></th>\n",
       "      <th>experiment</th>\n",
       "      <th>output</th>\n",
       "      <th>realm</th>\n",
       "      <th>variables</th>\n",
       "      <th>filename</th>\n",
       "      <th>path</th>\n",
       "      <th>start_time</th>\n",
       "      <th>end_time</th>\n",
       "      <th>frequency</th>\n",
       "    </tr>\n",
       "  </thead>\n",
       "  <tbody>\n",
       "    <tr>\n",
       "      <th>0</th>\n",
       "      <td>025deg_jra55_iaf_omip2_cycle6</td>\n",
       "      <td>output305</td>\n",
       "      <td>ice</td>\n",
       "      <td>[time_bounds, NCAT, tmask, blkmask, tarea, uar...</td>\n",
       "      <td>iceh.1958-01-daily</td>\n",
       "      <td>/g/data/ik11/outputs/access-om2-025/025deg_jra...</td>\n",
       "      <td>1958-01-01</td>\n",
       "      <td>1958-02-01</td>\n",
       "      <td>1 daily</td>\n",
       "    </tr>\n",
       "    <tr>\n",
       "      <th>1</th>\n",
       "      <td>025deg_jra55_iaf_omip2_cycle6</td>\n",
       "      <td>output305</td>\n",
       "      <td>ice</td>\n",
       "      <td>[time_bounds, tmask, blkmask, tarea, uarea, dx...</td>\n",
       "      <td>iceh.1958-01</td>\n",
       "      <td>/g/data/ik11/outputs/access-om2-025/025deg_jra...</td>\n",
       "      <td>1958-01-01</td>\n",
       "      <td>1958-02-01</td>\n",
       "      <td>1 monthly</td>\n",
       "    </tr>\n",
       "    <tr>\n",
       "      <th>2</th>\n",
       "      <td>025deg_jra55_iaf_omip2_cycle6</td>\n",
       "      <td>output305</td>\n",
       "      <td>ice</td>\n",
       "      <td>[time_bounds, NCAT, tmask, blkmask, tarea, uar...</td>\n",
       "      <td>iceh.1958-02-daily</td>\n",
       "      <td>/g/data/ik11/outputs/access-om2-025/025deg_jra...</td>\n",
       "      <td>1958-02-01</td>\n",
       "      <td>1958-03-01</td>\n",
       "      <td>1 daily</td>\n",
       "    </tr>\n",
       "    <tr>\n",
       "      <th>3</th>\n",
       "      <td>025deg_jra55_iaf_omip2_cycle6</td>\n",
       "      <td>output305</td>\n",
       "      <td>ice</td>\n",
       "      <td>[time_bounds, tmask, blkmask, tarea, uarea, dx...</td>\n",
       "      <td>iceh.1958-02</td>\n",
       "      <td>/g/data/ik11/outputs/access-om2-025/025deg_jra...</td>\n",
       "      <td>1958-02-01</td>\n",
       "      <td>1958-03-01</td>\n",
       "      <td>1 monthly</td>\n",
       "    </tr>\n",
       "    <tr>\n",
       "      <th>4</th>\n",
       "      <td>025deg_jra55_iaf_omip2_cycle6</td>\n",
       "      <td>output305</td>\n",
       "      <td>ice</td>\n",
       "      <td>[time_bounds, NCAT, tmask, blkmask, tarea, uar...</td>\n",
       "      <td>iceh.1958-03-daily</td>\n",
       "      <td>/g/data/ik11/outputs/access-om2-025/025deg_jra...</td>\n",
       "      <td>1958-03-01</td>\n",
       "      <td>1958-04-01</td>\n",
       "      <td>1 daily</td>\n",
       "    </tr>\n",
       "    <tr>\n",
       "      <th>...</th>\n",
       "      <td>...</td>\n",
       "      <td>...</td>\n",
       "      <td>...</td>\n",
       "      <td>...</td>\n",
       "      <td>...</td>\n",
       "      <td>...</td>\n",
       "      <td>...</td>\n",
       "      <td>...</td>\n",
       "      <td>...</td>\n",
       "    </tr>\n",
       "    <tr>\n",
       "      <th>1886</th>\n",
       "      <td>025deg_jra55_iaf_omip2_cycle6</td>\n",
       "      <td>output365</td>\n",
       "      <td>ocean</td>\n",
       "      <td>[sst, sst_sq, sss, sss_sq, hblt_max, mld, mld_...</td>\n",
       "      <td>ocean_daily</td>\n",
       "      <td>/g/data/ik11/outputs/access-om2-025/025deg_jra...</td>\n",
       "      <td>2017-12-30</td>\n",
       "      <td>2018-12-30</td>\n",
       "      <td>1 daily</td>\n",
       "    </tr>\n",
       "    <tr>\n",
       "      <th>1887</th>\n",
       "      <td>025deg_jra55_iaf_omip2_cycle6</td>\n",
       "      <td>output365</td>\n",
       "      <td>ocean</td>\n",
       "      <td>[ht, hu, dxt, dyt, dxu, dyu, area_t, area_u, k...</td>\n",
       "      <td>ocean_grid</td>\n",
       "      <td>/g/data/ik11/outputs/access-om2-025/025deg_jra...</td>\n",
       "      <td>2018-12-30</td>\n",
       "      <td>2018-12-30</td>\n",
       "      <td>static</td>\n",
       "    </tr>\n",
       "    <tr>\n",
       "      <th>1888</th>\n",
       "      <td>025deg_jra55_iaf_omip2_cycle6</td>\n",
       "      <td>output365</td>\n",
       "      <td>ocean</td>\n",
       "      <td>[pbot_t, patm_t, rho_dzt, dht, sea_level, sea_...</td>\n",
       "      <td>ocean_month</td>\n",
       "      <td>/g/data/ik11/outputs/access-om2-025/025deg_jra...</td>\n",
       "      <td>2017-12-30</td>\n",
       "      <td>2018-12-30</td>\n",
       "      <td>1 monthly</td>\n",
       "    </tr>\n",
       "    <tr>\n",
       "      <th>1889</th>\n",
       "      <td>025deg_jra55_iaf_omip2_cycle6</td>\n",
       "      <td>output365</td>\n",
       "      <td>ocean</td>\n",
       "      <td>[total_mass_seawater, total_volume_seawater, e...</td>\n",
       "      <td>ocean_scalar</td>\n",
       "      <td>/g/data/ik11/outputs/access-om2-025/025deg_jra...</td>\n",
       "      <td>2017-12-30</td>\n",
       "      <td>2018-12-30</td>\n",
       "      <td>1 monthly</td>\n",
       "    </tr>\n",
       "    <tr>\n",
       "      <th>1890</th>\n",
       "      <td>025deg_jra55_iaf_omip2_cycle6</td>\n",
       "      <td>output365</td>\n",
       "      <td>ocean</td>\n",
       "      <td>[eta_global, ke_tot, pe_tot, rhoave, salt_glob...</td>\n",
       "      <td>ocean_scalar_snapshot</td>\n",
       "      <td>/g/data/ik11/outputs/access-om2-025/025deg_jra...</td>\n",
       "      <td>2017-12-31</td>\n",
       "      <td>2018-12-30</td>\n",
       "      <td>1 daily</td>\n",
       "    </tr>\n",
       "  </tbody>\n",
       "</table>\n",
       "<p>1830 rows × 9 columns</p>\n",
       "</div>"
      ],
      "text/plain": [
       "                         experiment     output  realm  \\\n",
       "0     025deg_jra55_iaf_omip2_cycle6  output305    ice   \n",
       "1     025deg_jra55_iaf_omip2_cycle6  output305    ice   \n",
       "2     025deg_jra55_iaf_omip2_cycle6  output305    ice   \n",
       "3     025deg_jra55_iaf_omip2_cycle6  output305    ice   \n",
       "4     025deg_jra55_iaf_omip2_cycle6  output305    ice   \n",
       "...                             ...        ...    ...   \n",
       "1886  025deg_jra55_iaf_omip2_cycle6  output365  ocean   \n",
       "1887  025deg_jra55_iaf_omip2_cycle6  output365  ocean   \n",
       "1888  025deg_jra55_iaf_omip2_cycle6  output365  ocean   \n",
       "1889  025deg_jra55_iaf_omip2_cycle6  output365  ocean   \n",
       "1890  025deg_jra55_iaf_omip2_cycle6  output365  ocean   \n",
       "\n",
       "                                              variables  \\\n",
       "0     [time_bounds, NCAT, tmask, blkmask, tarea, uar...   \n",
       "1     [time_bounds, tmask, blkmask, tarea, uarea, dx...   \n",
       "2     [time_bounds, NCAT, tmask, blkmask, tarea, uar...   \n",
       "3     [time_bounds, tmask, blkmask, tarea, uarea, dx...   \n",
       "4     [time_bounds, NCAT, tmask, blkmask, tarea, uar...   \n",
       "...                                                 ...   \n",
       "1886  [sst, sst_sq, sss, sss_sq, hblt_max, mld, mld_...   \n",
       "1887  [ht, hu, dxt, dyt, dxu, dyu, area_t, area_u, k...   \n",
       "1888  [pbot_t, patm_t, rho_dzt, dht, sea_level, sea_...   \n",
       "1889  [total_mass_seawater, total_volume_seawater, e...   \n",
       "1890  [eta_global, ke_tot, pe_tot, rhoave, salt_glob...   \n",
       "\n",
       "                   filename  \\\n",
       "0        iceh.1958-01-daily   \n",
       "1              iceh.1958-01   \n",
       "2        iceh.1958-02-daily   \n",
       "3              iceh.1958-02   \n",
       "4        iceh.1958-03-daily   \n",
       "...                     ...   \n",
       "1886            ocean_daily   \n",
       "1887             ocean_grid   \n",
       "1888            ocean_month   \n",
       "1889           ocean_scalar   \n",
       "1890  ocean_scalar_snapshot   \n",
       "\n",
       "                                                   path  start_time  \\\n",
       "0     /g/data/ik11/outputs/access-om2-025/025deg_jra...  1958-01-01   \n",
       "1     /g/data/ik11/outputs/access-om2-025/025deg_jra...  1958-01-01   \n",
       "2     /g/data/ik11/outputs/access-om2-025/025deg_jra...  1958-02-01   \n",
       "3     /g/data/ik11/outputs/access-om2-025/025deg_jra...  1958-02-01   \n",
       "4     /g/data/ik11/outputs/access-om2-025/025deg_jra...  1958-03-01   \n",
       "...                                                 ...         ...   \n",
       "1886  /g/data/ik11/outputs/access-om2-025/025deg_jra...  2017-12-30   \n",
       "1887  /g/data/ik11/outputs/access-om2-025/025deg_jra...  2018-12-30   \n",
       "1888  /g/data/ik11/outputs/access-om2-025/025deg_jra...  2017-12-30   \n",
       "1889  /g/data/ik11/outputs/access-om2-025/025deg_jra...  2017-12-30   \n",
       "1890  /g/data/ik11/outputs/access-om2-025/025deg_jra...  2017-12-31   \n",
       "\n",
       "        end_time  frequency  \n",
       "0     1958-02-01    1 daily  \n",
       "1     1958-02-01  1 monthly  \n",
       "2     1958-03-01    1 daily  \n",
       "3     1958-03-01  1 monthly  \n",
       "4     1958-04-01    1 daily  \n",
       "...          ...        ...  \n",
       "1886  2018-12-30    1 daily  \n",
       "1887  2018-12-30     static  \n",
       "1888  2018-12-30  1 monthly  \n",
       "1889  2018-12-30  1 monthly  \n",
       "1890  2018-12-30    1 daily  \n",
       "\n",
       "[1830 rows x 9 columns]"
      ]
     },
     "execution_count": 8,
     "metadata": {},
     "output_type": "execute_result"
    }
   ],
   "source": [
    "cc_builder.df"
   ]
  },
  {
   "cell_type": "code",
   "execution_count": 9,
   "id": "65ca348d-85e6-47e1-8ba2-473929772261",
   "metadata": {},
   "outputs": [
    {
     "data": {
      "text/plain": [
       "array([PosixPath('/g/data/ik11/outputs/access-om2-025/025deg_jra55_iaf_omip2_cycle6/output305/ocean/o2i.nc'),\n",
       "       PosixPath('/g/data/ik11/outputs/access-om2-025/025deg_jra55_iaf_omip2_cycle6/output306/ocean/o2i.nc'),\n",
       "       PosixPath('/g/data/ik11/outputs/access-om2-025/025deg_jra55_iaf_omip2_cycle6/output307/ocean/o2i.nc'),\n",
       "       PosixPath('/g/data/ik11/outputs/access-om2-025/025deg_jra55_iaf_omip2_cycle6/output308/ocean/o2i.nc'),\n",
       "       PosixPath('/g/data/ik11/outputs/access-om2-025/025deg_jra55_iaf_omip2_cycle6/output309/ocean/o2i.nc'),\n",
       "       PosixPath('/g/data/ik11/outputs/access-om2-025/025deg_jra55_iaf_omip2_cycle6/output310/ocean/o2i.nc'),\n",
       "       PosixPath('/g/data/ik11/outputs/access-om2-025/025deg_jra55_iaf_omip2_cycle6/output311/ocean/o2i.nc'),\n",
       "       PosixPath('/g/data/ik11/outputs/access-om2-025/025deg_jra55_iaf_omip2_cycle6/output312/ocean/o2i.nc'),\n",
       "       PosixPath('/g/data/ik11/outputs/access-om2-025/025deg_jra55_iaf_omip2_cycle6/output313/ocean/o2i.nc'),\n",
       "       PosixPath('/g/data/ik11/outputs/access-om2-025/025deg_jra55_iaf_omip2_cycle6/output314/ocean/o2i.nc'),\n",
       "       PosixPath('/g/data/ik11/outputs/access-om2-025/025deg_jra55_iaf_omip2_cycle6/output315/ocean/o2i.nc'),\n",
       "       PosixPath('/g/data/ik11/outputs/access-om2-025/025deg_jra55_iaf_omip2_cycle6/output316/ocean/o2i.nc'),\n",
       "       PosixPath('/g/data/ik11/outputs/access-om2-025/025deg_jra55_iaf_omip2_cycle6/output317/ocean/o2i.nc'),\n",
       "       PosixPath('/g/data/ik11/outputs/access-om2-025/025deg_jra55_iaf_omip2_cycle6/output318/ocean/o2i.nc'),\n",
       "       PosixPath('/g/data/ik11/outputs/access-om2-025/025deg_jra55_iaf_omip2_cycle6/output319/ocean/o2i.nc'),\n",
       "       PosixPath('/g/data/ik11/outputs/access-om2-025/025deg_jra55_iaf_omip2_cycle6/output320/ocean/o2i.nc'),\n",
       "       PosixPath('/g/data/ik11/outputs/access-om2-025/025deg_jra55_iaf_omip2_cycle6/output321/ocean/o2i.nc'),\n",
       "       PosixPath('/g/data/ik11/outputs/access-om2-025/025deg_jra55_iaf_omip2_cycle6/output322/ocean/o2i.nc'),\n",
       "       PosixPath('/g/data/ik11/outputs/access-om2-025/025deg_jra55_iaf_omip2_cycle6/output323/ocean/o2i.nc'),\n",
       "       PosixPath('/g/data/ik11/outputs/access-om2-025/025deg_jra55_iaf_omip2_cycle6/output324/ocean/o2i.nc'),\n",
       "       PosixPath('/g/data/ik11/outputs/access-om2-025/025deg_jra55_iaf_omip2_cycle6/output325/ocean/o2i.nc'),\n",
       "       PosixPath('/g/data/ik11/outputs/access-om2-025/025deg_jra55_iaf_omip2_cycle6/output326/ocean/o2i.nc'),\n",
       "       PosixPath('/g/data/ik11/outputs/access-om2-025/025deg_jra55_iaf_omip2_cycle6/output327/ocean/o2i.nc'),\n",
       "       PosixPath('/g/data/ik11/outputs/access-om2-025/025deg_jra55_iaf_omip2_cycle6/output328/ocean/o2i.nc'),\n",
       "       PosixPath('/g/data/ik11/outputs/access-om2-025/025deg_jra55_iaf_omip2_cycle6/output329/ocean/o2i.nc'),\n",
       "       PosixPath('/g/data/ik11/outputs/access-om2-025/025deg_jra55_iaf_omip2_cycle6/output330/ocean/o2i.nc'),\n",
       "       PosixPath('/g/data/ik11/outputs/access-om2-025/025deg_jra55_iaf_omip2_cycle6/output331/ocean/o2i.nc'),\n",
       "       PosixPath('/g/data/ik11/outputs/access-om2-025/025deg_jra55_iaf_omip2_cycle6/output332/ocean/o2i.nc'),\n",
       "       PosixPath('/g/data/ik11/outputs/access-om2-025/025deg_jra55_iaf_omip2_cycle6/output333/ocean/o2i.nc'),\n",
       "       PosixPath('/g/data/ik11/outputs/access-om2-025/025deg_jra55_iaf_omip2_cycle6/output334/ocean/o2i.nc'),\n",
       "       PosixPath('/g/data/ik11/outputs/access-om2-025/025deg_jra55_iaf_omip2_cycle6/output335/ocean/o2i.nc'),\n",
       "       PosixPath('/g/data/ik11/outputs/access-om2-025/025deg_jra55_iaf_omip2_cycle6/output336/ocean/o2i.nc'),\n",
       "       PosixPath('/g/data/ik11/outputs/access-om2-025/025deg_jra55_iaf_omip2_cycle6/output337/ocean/o2i.nc'),\n",
       "       PosixPath('/g/data/ik11/outputs/access-om2-025/025deg_jra55_iaf_omip2_cycle6/output338/ocean/o2i.nc'),\n",
       "       PosixPath('/g/data/ik11/outputs/access-om2-025/025deg_jra55_iaf_omip2_cycle6/output339/ocean/o2i.nc'),\n",
       "       PosixPath('/g/data/ik11/outputs/access-om2-025/025deg_jra55_iaf_omip2_cycle6/output340/ocean/o2i.nc'),\n",
       "       PosixPath('/g/data/ik11/outputs/access-om2-025/025deg_jra55_iaf_omip2_cycle6/output341/ocean/o2i.nc'),\n",
       "       PosixPath('/g/data/ik11/outputs/access-om2-025/025deg_jra55_iaf_omip2_cycle6/output342/ocean/o2i.nc'),\n",
       "       PosixPath('/g/data/ik11/outputs/access-om2-025/025deg_jra55_iaf_omip2_cycle6/output343/ocean/o2i.nc'),\n",
       "       PosixPath('/g/data/ik11/outputs/access-om2-025/025deg_jra55_iaf_omip2_cycle6/output344/ocean/o2i.nc'),\n",
       "       PosixPath('/g/data/ik11/outputs/access-om2-025/025deg_jra55_iaf_omip2_cycle6/output345/ocean/o2i.nc'),\n",
       "       PosixPath('/g/data/ik11/outputs/access-om2-025/025deg_jra55_iaf_omip2_cycle6/output346/ocean/o2i.nc'),\n",
       "       PosixPath('/g/data/ik11/outputs/access-om2-025/025deg_jra55_iaf_omip2_cycle6/output347/ocean/o2i.nc'),\n",
       "       PosixPath('/g/data/ik11/outputs/access-om2-025/025deg_jra55_iaf_omip2_cycle6/output348/ocean/o2i.nc'),\n",
       "       PosixPath('/g/data/ik11/outputs/access-om2-025/025deg_jra55_iaf_omip2_cycle6/output349/ocean/o2i.nc'),\n",
       "       PosixPath('/g/data/ik11/outputs/access-om2-025/025deg_jra55_iaf_omip2_cycle6/output350/ocean/o2i.nc'),\n",
       "       PosixPath('/g/data/ik11/outputs/access-om2-025/025deg_jra55_iaf_omip2_cycle6/output351/ocean/o2i.nc'),\n",
       "       PosixPath('/g/data/ik11/outputs/access-om2-025/025deg_jra55_iaf_omip2_cycle6/output352/ocean/o2i.nc'),\n",
       "       PosixPath('/g/data/ik11/outputs/access-om2-025/025deg_jra55_iaf_omip2_cycle6/output353/ocean/o2i.nc'),\n",
       "       PosixPath('/g/data/ik11/outputs/access-om2-025/025deg_jra55_iaf_omip2_cycle6/output354/ocean/o2i.nc'),\n",
       "       PosixPath('/g/data/ik11/outputs/access-om2-025/025deg_jra55_iaf_omip2_cycle6/output355/ocean/o2i.nc'),\n",
       "       PosixPath('/g/data/ik11/outputs/access-om2-025/025deg_jra55_iaf_omip2_cycle6/output356/ocean/o2i.nc'),\n",
       "       PosixPath('/g/data/ik11/outputs/access-om2-025/025deg_jra55_iaf_omip2_cycle6/output357/ocean/o2i.nc'),\n",
       "       PosixPath('/g/data/ik11/outputs/access-om2-025/025deg_jra55_iaf_omip2_cycle6/output358/ocean/o2i.nc'),\n",
       "       PosixPath('/g/data/ik11/outputs/access-om2-025/025deg_jra55_iaf_omip2_cycle6/output359/ocean/o2i.nc'),\n",
       "       PosixPath('/g/data/ik11/outputs/access-om2-025/025deg_jra55_iaf_omip2_cycle6/output360/ocean/o2i.nc'),\n",
       "       PosixPath('/g/data/ik11/outputs/access-om2-025/025deg_jra55_iaf_omip2_cycle6/output361/ocean/o2i.nc'),\n",
       "       PosixPath('/g/data/ik11/outputs/access-om2-025/025deg_jra55_iaf_omip2_cycle6/output362/ocean/o2i.nc'),\n",
       "       PosixPath('/g/data/ik11/outputs/access-om2-025/025deg_jra55_iaf_omip2_cycle6/output363/ocean/o2i.nc'),\n",
       "       PosixPath('/g/data/ik11/outputs/access-om2-025/025deg_jra55_iaf_omip2_cycle6/output364/ocean/o2i.nc'),\n",
       "       PosixPath('/g/data/ik11/outputs/access-om2-025/025deg_jra55_iaf_omip2_cycle6/output365/ocean/o2i.nc')],\n",
       "      dtype=object)"
      ]
     },
     "execution_count": 9,
     "metadata": {},
     "output_type": "execute_result"
    }
   ],
   "source": [
    "# Some files failed to be indexed because they don't have a calendar attribute\n",
    "\n",
    "cc_builder.invalid_assets.INVALID_ASSET.values"
   ]
  },
  {
   "cell_type": "markdown",
   "id": "362db89c-1739-49f2-8b72-11201cf18854",
   "metadata": {},
   "source": [
    "### Open some data\n",
    "Note, we haven't specified a filename below"
   ]
  },
  {
   "cell_type": "code",
   "execution_count": 10,
   "id": "a891cbeb-8076-4cfc-8c11-4db01b76431d",
   "metadata": {},
   "outputs": [],
   "source": [
    "import ast\n",
    "\n",
    "import intake"
   ]
  },
  {
   "cell_type": "code",
   "execution_count": 11,
   "id": "1db99962-1aee-465c-8e47-b7b2cfb3c7d2",
   "metadata": {},
   "outputs": [],
   "source": [
    "catalog = intake.open_esm_datastore(\n",
    "    \"cosima_cookbook_test.json\",\n",
    "    read_csv_kwargs={\"converters\": {\"variables\": ast.literal_eval}},\n",
    "    sep=\"/\",\n",
    ")"
   ]
  },
  {
   "cell_type": "code",
   "execution_count": 12,
   "id": "0991bc55-5f5a-457c-81ad-0254f7d70a5c",
   "metadata": {},
   "outputs": [
    {
     "name": "stdout",
     "output_type": "stream",
     "text": [
      "\n",
      "--> The keys in the returned dictionary of datasets are constructed as follows:\n",
      "\t'experiment.filename'\n"
     ]
    },
    {
     "data": {
      "text/html": [
       "\n",
       "<style>\n",
       "    /* Turns off some styling */\n",
       "    progress {\n",
       "        /* gets rid of default border in Firefox and Opera. */\n",
       "        border: none;\n",
       "        /* Needs to be in here for Safari polyfill so background images work as expected. */\n",
       "        background-size: auto;\n",
       "    }\n",
       "    progress:not([value]), progress:not([value])::-webkit-progress-bar {\n",
       "        background: repeating-linear-gradient(45deg, #7e7e7e, #7e7e7e 10px, #5c5c5c 10px, #5c5c5c 20px);\n",
       "    }\n",
       "    .progress-bar-interrupted, .progress-bar-interrupted::-webkit-progress-bar {\n",
       "        background: #F44336;\n",
       "    }\n",
       "</style>\n"
      ],
      "text/plain": [
       "<IPython.core.display.HTML object>"
      ]
     },
     "metadata": {},
     "output_type": "display_data"
    },
    {
     "data": {
      "text/html": [
       "\n",
       "    <div>\n",
       "      <progress value='2' class='' max='2' style='width:300px; height:20px; vertical-align: middle;'></progress>\n",
       "      100.00% [2/2 00:06&lt;00:00]\n",
       "    </div>\n",
       "    "
      ],
      "text/plain": [
       "<IPython.core.display.HTML object>"
      ]
     },
     "metadata": {},
     "output_type": "display_data"
    },
    {
     "name": "stdout",
     "output_type": "stream",
     "text": [
      "CPU times: user 1.72 s, sys: 379 ms, total: 2.1 s\n",
      "Wall time: 6.67 s\n"
     ]
    },
    {
     "data": {
      "text/plain": [
       "{'025deg_jra55_iaf_omip2_cycle6.ocean_daily': <xarray.Dataset>\n",
       " Dimensions:   (time: 22280, yt_ocean: 1080, xt_ocean: 1440)\n",
       " Coordinates:\n",
       "   * xt_ocean  (xt_ocean) float64 -279.9 -279.6 -279.4 ... 79.38 79.62 79.88\n",
       "   * yt_ocean  (yt_ocean) float64 -81.08 -80.97 -80.87 ... 89.74 89.84 89.95\n",
       "   * time      (time) datetime64[ns] 1957-12-30T12:00:00 ... 2018-12-29T12:00:00\n",
       " Data variables:\n",
       "     sst       (time, yt_ocean, xt_ocean) float32 dask.array<chunksize=(365, 1080, 1440), meta=np.ndarray>\n",
       " Attributes:\n",
       "     filename:                        ocean_daily.nc\n",
       "     title:                           ACCESS-OM2\n",
       "     grid_type:                       mosaic\n",
       "     grid_tile:                       1\n",
       "     intake_esm_vars:                 ['sst']\n",
       "     intake_esm_attrs:experiment:     025deg_jra55_iaf_omip2_cycle6\n",
       "     intake_esm_attrs:realm:          ocean\n",
       "     intake_esm_attrs:variables:      sst,sst_sq,sss,sss_sq,hblt_max,mld,mld_m...\n",
       "     intake_esm_attrs:filename:       ocean_daily\n",
       "     intake_esm_attrs:frequency:      1 daily\n",
       "     intake_esm_attrs:_data_format_:  netcdf\n",
       "     intake_esm_dataset_key:          025deg_jra55_iaf_omip2_cycle6.ocean_daily,\n",
       " '025deg_jra55_iaf_omip2_cycle6.ocean_month': <xarray.Dataset>\n",
       " Dimensions:   (time: 732, yt_ocean: 1080, xt_ocean: 1440)\n",
       " Coordinates:\n",
       "   * xt_ocean  (xt_ocean) float64 -279.9 -279.6 -279.4 ... 79.38 79.62 79.88\n",
       "   * yt_ocean  (yt_ocean) float64 -81.08 -80.97 -80.87 ... 89.74 89.84 89.95\n",
       "   * time      (time) datetime64[ns] 1958-01-14T12:00:00 ... 2018-12-14T12:00:00\n",
       " Data variables:\n",
       "     sst       (time, yt_ocean, xt_ocean) float32 dask.array<chunksize=(12, 1080, 1440), meta=np.ndarray>\n",
       " Attributes:\n",
       "     filename:                        ocean_month.nc\n",
       "     title:                           ACCESS-OM2\n",
       "     grid_type:                       mosaic\n",
       "     grid_tile:                       1\n",
       "     intake_esm_vars:                 ['sst']\n",
       "     intake_esm_attrs:experiment:     025deg_jra55_iaf_omip2_cycle6\n",
       "     intake_esm_attrs:realm:          ocean\n",
       "     intake_esm_attrs:variables:      pbot_t,patm_t,rho_dzt,dht,sea_level,sea_...\n",
       "     intake_esm_attrs:filename:       ocean_month\n",
       "     intake_esm_attrs:frequency:      1 monthly\n",
       "     intake_esm_attrs:_data_format_:  netcdf\n",
       "     intake_esm_dataset_key:          025deg_jra55_iaf_omip2_cycle6.ocean_month}"
      ]
     },
     "execution_count": 12,
     "metadata": {},
     "output_type": "execute_result"
    }
   ],
   "source": [
    "%%time\n",
    "\n",
    "subset = catalog.search(\n",
    "    experiment=\"025deg_jra55_iaf_omip2_cycle6\", \n",
    "    variables=\"sst\")\n",
    "\n",
    "dsets = subset.to_dataset_dict()\n",
    "dsets "
   ]
  },
  {
   "cell_type": "code",
   "execution_count": 13,
   "id": "58b02bc7-b001-48af-adfd-a9dd839e6046",
   "metadata": {},
   "outputs": [
    {
     "name": "stdout",
     "output_type": "stream",
     "text": [
      "\n",
      "--> The keys in the returned dictionary of datasets are constructed as follows:\n",
      "\t'experiment.filename'\n"
     ]
    },
    {
     "data": {
      "text/html": [
       "\n",
       "<style>\n",
       "    /* Turns off some styling */\n",
       "    progress {\n",
       "        /* gets rid of default border in Firefox and Opera. */\n",
       "        border: none;\n",
       "        /* Needs to be in here for Safari polyfill so background images work as expected. */\n",
       "        background-size: auto;\n",
       "    }\n",
       "    progress:not([value]), progress:not([value])::-webkit-progress-bar {\n",
       "        background: repeating-linear-gradient(45deg, #7e7e7e, #7e7e7e 10px, #5c5c5c 10px, #5c5c5c 20px);\n",
       "    }\n",
       "    .progress-bar-interrupted, .progress-bar-interrupted::-webkit-progress-bar {\n",
       "        background: #F44336;\n",
       "    }\n",
       "</style>\n"
      ],
      "text/plain": [
       "<IPython.core.display.HTML object>"
      ]
     },
     "metadata": {},
     "output_type": "display_data"
    },
    {
     "data": {
      "text/html": [
       "\n",
       "    <div>\n",
       "      <progress value='1' class='' max='1' style='width:300px; height:20px; vertical-align: middle;'></progress>\n",
       "      100.00% [1/1 00:00&lt;00:00]\n",
       "    </div>\n",
       "    "
      ],
      "text/plain": [
       "<IPython.core.display.HTML object>"
      ]
     },
     "metadata": {},
     "output_type": "display_data"
    }
   ],
   "source": [
    "sst = dsets[\"025deg_jra55_iaf_omip2_cycle6.ocean_month\"][\"sst\"]\n",
    "\n",
    "area = catalog.search(\n",
    "    experiment=\"025deg_jra55_iaf_omip2_cycle6\", \n",
    "    variables=\"area_t\",\n",
    "    start_time=\"2018-12-30\").to_dataset_dict()[\n",
    "    \"025deg_jra55_iaf_omip2_cycle6.ocean_grid\"][\"area_t\"]"
   ]
  },
  {
   "cell_type": "code",
   "execution_count": 14,
   "id": "b6554b0a-b739-4754-b050-524c2736f418",
   "metadata": {},
   "outputs": [
    {
     "name": "stdout",
     "output_type": "stream",
     "text": [
      "CPU times: user 7.34 s, sys: 776 ms, total: 8.12 s\n",
      "Wall time: 1min 15s\n"
     ]
    },
    {
     "data": {
      "image/png": "[encoded data removed]",
      "text/plain": [
       "<Figure size 640x480 with 1 Axes>"
      ]
     },
     "metadata": {},
     "output_type": "display_data"
    }
   ],
   "source": [
    "%%time\n",
    "\n",
    "global_mean = sst.weighted(area.fillna(0)).mean([\"xt_ocean\", \"yt_ocean\"])\n",
    "_ = global_mean.plot()"
   ]
  },
  {
   "cell_type": "markdown",
   "id": "1437a4d0-bad5-469b-942f-0ed7b1d48aa6",
   "metadata": {},
   "source": [
    "----------------\n",
    "\n",
    "## Thoughts/comments\n",
    "\n",
    "- Using intake-esm results in significantly less tasks in the dask graph for the above computation (550 vs 130,000).\n",
    "\n",
    "- The intake-esm catalogue here is just a csv file. This presumably wouldn't scale very well to very large numbers of files (I'm not sure at what point things would start to break down - the Pangeo CMIP catalogue uses intake-esm, though these are zarr collections, with far less total files). Should we reach out to NCI to find out more about their new \"Python intake\" that Ben said is built on a scalable database?\n",
    "\n",
    "- From my very brief look, there's not a lot of metadata in the COSIMA datasets and there isn't really a standard DRS (e.g. some experiments/realms have an additional OUTPUT directory). This can make indexing difficult. Is model output postprocessing within ACCESS-NRI scope? \"postprocessing\" could be as simple as adding metadata attributes (e.g. git commit hash) or as complex as aggregating, rechunking etc to make the datasets more \"analysis-ready\"."
   ]
  },
  {
   "cell_type": "code",
   "execution_count": 15,
   "id": "7c24e608-5f68-49c7-92c9-167182730195",
   "metadata": {},
   "outputs": [],
   "source": [
    "client.close()"
   ]
  }
 ],
 "metadata": {
  "kernelspec": {
   "display_name": "Python (intake)",
   "language": "python",
   "name": "intake"
  },
  "language_info": {
   "codemirror_mode": {
    "name": "ipython",
    "version": 3
   },
   "file_extension": ".py",
   "mimetype": "text/x-python",
   "name": "python",
   "nbconvert_exporter": "python",
   "pygments_lexer": "ipython3",
   "version": "3.10.6"
  }
 },
 "nbformat": 4,
 "nbformat_minor": 5
}
