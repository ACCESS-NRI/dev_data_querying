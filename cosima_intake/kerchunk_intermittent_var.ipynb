{
 "cells": [
  {
   "cell_type": "markdown",
   "id": "402433f1-dd2d-4802-8a46-171b8df1eea3",
   "metadata": {},
   "source": [
    "# How does kerchunk handle missing data? \n",
    "\n",
    "E.g. a variable is not present in all netcdf files"
   ]
  },
  {
   "cell_type": "code",
   "execution_count": 1,
   "id": "356bcf88-fe51-41d6-9399-935d0c6a6b3d",
   "metadata": {},
   "outputs": [
    {
     "name": "stdout",
     "output_type": "stream",
     "text": [
      "/g/data/tm70/ds0092/projects/dev_data_querying/cosima_intake\n"
     ]
    }
   ],
   "source": [
    "%cd /g/data/tm70/ds0092/projects/dev_data_querying/cosima_intake"
   ]
  },
  {
   "cell_type": "code",
   "execution_count": 2,
   "id": "f6709b28-85f5-414c-81a1-eb34f164c1b2",
   "metadata": {},
   "outputs": [],
   "source": [
    "import os\n",
    "import glob\n",
    "\n",
    "import ujson\n",
    "\n",
    "import fsspec\n",
    "\n",
    "import zarr\n",
    "\n",
    "import xarray as xr\n",
    "\n",
    "from kerchunk import hdf, df, combine\n",
    "\n",
    "import matplotlib.pyplot as plt"
   ]
  },
  {
   "cell_type": "code",
   "execution_count": 3,
   "id": "d07b7f36-344c-4f33-aa90-d51ad54f99ac",
   "metadata": {},
   "outputs": [
    {
     "data": {
      "text/plain": [
       "'2023.1.0+20.ga50899e'"
      ]
     },
     "execution_count": 3,
     "metadata": {},
     "output_type": "execute_result"
    }
   ],
   "source": [
    "# Need https://github.com/fsspec/kerchunk/pull/311\n",
    "fsspec.__version__"
   ]
  },
  {
   "cell_type": "markdown",
   "id": "0c580dd8-d395-49ef-8b78-b6cd45f9cb1a",
   "metadata": {},
   "source": [
    "## Use some files from `/g/data/ik11/outputs/access-om2/1deg_jra55v14_ryf` as a simple test case\n",
    "\n",
    "Note these data have an issue which requires a work-around. The `time_bounds` variable has non-cf-compliant (I think) units (`days` rather than `days since ...`)"
   ]
  },
  {
   "cell_type": "code",
   "execution_count": 4,
   "id": "0e0f0ef6-a2be-454d-9694-b6f1f560a8dd",
   "metadata": {},
   "outputs": [],
   "source": [
    "dss = [\n",
    "    (\n",
    "        \"ocean-2d-mld-1-monthly-mean-ym_1900_01.nc\", \n",
    "        \"ocean-2d-surface_pot_temp-1-monthly-mean-ym_1900_01.nc\"\n",
    "    ),\n",
    "    (\n",
    "        # \"ocean-2d-mld-1-monthly-mean-ym_1901_01.nc\",\n",
    "        \"ocean-2d-surface_pot_temp-1-monthly-mean-ym_1901_01.nc\",\n",
    "    ),\n",
    "    (\n",
    "        \"ocean-2d-mld-1-monthly-mean-ym_1902_01.nc\",\n",
    "        \"ocean-2d-surface_pot_temp-1-monthly-mean-ym_1902_01.nc\"\n",
    "    )\n",
    "]"
   ]
  },
  {
   "cell_type": "code",
   "execution_count": 5,
   "id": "08df0255-b6f1-4ed9-ab7c-dbd34bd459c9",
   "metadata": {
    "tags": []
   },
   "outputs": [],
   "source": [
    "for idx, ds in enumerate(dss):\n",
    "    data = xr.open_mfdataset(\n",
    "        [f\"./test_data/{d}\" for d in ds],\n",
    "        decode_timedelta=False # Needed \n",
    "    )\n",
    "    data.to_netcdf(f\"./test_data/ds{idx}.nc\")"
   ]
  },
  {
   "cell_type": "markdown",
   "id": "bf609731-54ae-46f6-9218-7a9954ee8d7d",
   "metadata": {},
   "source": [
    "## Build kerchunk reference dataset"
   ]
  },
  {
   "cell_type": "code",
   "execution_count": 6,
   "id": "67a3293e-ba6a-469e-a981-c31bce07c75e",
   "metadata": {},
   "outputs": [],
   "source": [
    "fs = fsspec.filesystem('file')\n",
    "\n",
    "files = sorted(fs.glob(\"./test_data/ds*.nc\"))"
   ]
  },
  {
   "cell_type": "code",
   "execution_count": 7,
   "id": "3c89359d-079c-4866-acd4-678bc199a3ff",
   "metadata": {},
   "outputs": [],
   "source": [
    "def gen_json(file):\n",
    "    \n",
    "    with fs.open(file) as infile:\n",
    "        h5chunks = hdf.SingleHdf5ToZarr(infile, file)\n",
    "        outf = f\"{os.path.splitext(file)[0]}.json\"\n",
    "        with open(outf, 'wb') as f:\n",
    "            f.write(ujson.dumps(h5chunks.translate()).encode());\n",
    "            \n",
    "for file in files:\n",
    "    gen_json(file)"
   ]
  },
  {
   "cell_type": "code",
   "execution_count": 8,
   "id": "9daa699c-0bb0-4b81-a7cd-de34c1bd86b3",
   "metadata": {},
   "outputs": [
    {
     "ename": "ValueError",
     "evalue": "Found chunk size mismatch:\n                        at prefix time_bounds in iteration 1 (file file:///g/data/tm70/ds0092/projects/dev_data_querying/cosima_intake/test_data/ds1.json)\n                        new chunk: [12, 2]\n                        chunks so far: [1, 2]",
     "output_type": "error",
     "traceback": [
      "\u001b[0;31m---------------------------------------------------------------------------\u001b[0m",
      "\u001b[0;31mValueError\u001b[0m                                Traceback (most recent call last)",
      "Cell \u001b[0;32mIn[8], line 11\u001b[0m\n\u001b[1;32m      1\u001b[0m json_list \u001b[38;5;241m=\u001b[39m fs\u001b[38;5;241m.\u001b[39mglob(\u001b[38;5;124m\"\u001b[39m\u001b[38;5;124m./test_data/*.json\u001b[39m\u001b[38;5;124m\"\u001b[39m)\n\u001b[1;32m      3\u001b[0m mzz \u001b[38;5;241m=\u001b[39m \u001b[43mcombine\u001b[49m\u001b[38;5;241;43m.\u001b[39;49m\u001b[43mMultiZarrToZarr\u001b[49m\u001b[43m(\u001b[49m\n\u001b[1;32m      4\u001b[0m \u001b[43m    \u001b[49m\u001b[43mjson_list\u001b[49m\u001b[43m,\u001b[49m\n\u001b[1;32m      5\u001b[0m \u001b[43m    \u001b[49m\u001b[43mconcat_dims\u001b[49m\u001b[38;5;241;43m=\u001b[39;49m\u001b[38;5;124;43m'\u001b[39;49m\u001b[38;5;124;43mtime\u001b[39;49m\u001b[38;5;124;43m'\u001b[39;49m\u001b[43m,\u001b[49m\n\u001b[1;32m      6\u001b[0m \u001b[43m    \u001b[49m\u001b[43midentical_dims\u001b[49m\u001b[38;5;241;43m=\u001b[39;49m\u001b[43m[\u001b[49m\n\u001b[1;32m      7\u001b[0m \u001b[43m        \u001b[49m\u001b[38;5;124;43m\"\u001b[39;49m\u001b[38;5;124;43mxt_ocean\u001b[39;49m\u001b[38;5;124;43m\"\u001b[39;49m\u001b[43m,\u001b[49m\u001b[43m \u001b[49m\n\u001b[1;32m      8\u001b[0m \u001b[43m        \u001b[49m\u001b[38;5;124;43m\"\u001b[39;49m\u001b[38;5;124;43myt_ocean\u001b[39;49m\u001b[38;5;124;43m\"\u001b[39;49m\u001b[43m,\u001b[49m\u001b[43m \u001b[49m\n\u001b[1;32m      9\u001b[0m \u001b[43m        \u001b[49m\u001b[38;5;124;43m\"\u001b[39;49m\u001b[38;5;124;43mnv\u001b[39;49m\u001b[38;5;124;43m\"\u001b[39;49m\n\u001b[1;32m     10\u001b[0m \u001b[43m     \u001b[49m\u001b[43m]\u001b[49m\u001b[43m,\u001b[49m\n\u001b[0;32m---> 11\u001b[0m \u001b[43m)\u001b[49m\u001b[38;5;241;43m.\u001b[39;49m\u001b[43mtranslate\u001b[49m\u001b[43m(\u001b[49m\u001b[43m)\u001b[49m\n",
      "File \u001b[0;32m/g/data/tm70/ds0092/software/mambaforge/envs/kerchunk-PR311/lib/python3.11/site-packages/kerchunk/combine.py:487\u001b[0m, in \u001b[0;36mMultiZarrToZarr.translate\u001b[0;34m(self, filename, storage_options)\u001b[0m\n\u001b[1;32m    485\u001b[0m     \u001b[38;5;28mself\u001b[39m\u001b[38;5;241m.\u001b[39mstore_coords()\n\u001b[1;32m    486\u001b[0m \u001b[38;5;28;01mif\u001b[39;00m \u001b[38;5;241m3\u001b[39m \u001b[38;5;129;01mnot\u001b[39;00m \u001b[38;5;129;01min\u001b[39;00m \u001b[38;5;28mself\u001b[39m\u001b[38;5;241m.\u001b[39mdone:\n\u001b[0;32m--> 487\u001b[0m     \u001b[38;5;28;43mself\u001b[39;49m\u001b[38;5;241;43m.\u001b[39;49m\u001b[43msecond_pass\u001b[49m\u001b[43m(\u001b[49m\u001b[43m)\u001b[49m\n\u001b[1;32m    488\u001b[0m \u001b[38;5;28;01mif\u001b[39;00m \u001b[38;5;241m4\u001b[39m \u001b[38;5;129;01mnot\u001b[39;00m \u001b[38;5;129;01min\u001b[39;00m \u001b[38;5;28mself\u001b[39m\u001b[38;5;241m.\u001b[39mdone:\n\u001b[1;32m    489\u001b[0m     \u001b[38;5;28;01mif\u001b[39;00m \u001b[38;5;28mself\u001b[39m\u001b[38;5;241m.\u001b[39mpostprocess \u001b[38;5;129;01mis\u001b[39;00m \u001b[38;5;129;01mnot\u001b[39;00m \u001b[38;5;28;01mNone\u001b[39;00m:\n",
      "File \u001b[0;32m/g/data/tm70/ds0092/software/mambaforge/envs/kerchunk-PR311/lib/python3.11/site-packages/kerchunk/combine.py:391\u001b[0m, in \u001b[0;36mMultiZarrToZarr.second_pass\u001b[0;34m(self)\u001b[0m\n\u001b[1;32m    389\u001b[0m     chunk_sizes[v] \u001b[38;5;241m=\u001b[39m zarray[\u001b[38;5;124m\"\u001b[39m\u001b[38;5;124mchunks\u001b[39m\u001b[38;5;124m\"\u001b[39m]\n\u001b[1;32m    390\u001b[0m \u001b[38;5;28;01melif\u001b[39;00m chunk_sizes[v] \u001b[38;5;241m!=\u001b[39m zarray[\u001b[38;5;124m\"\u001b[39m\u001b[38;5;124mchunks\u001b[39m\u001b[38;5;124m\"\u001b[39m]:\n\u001b[0;32m--> 391\u001b[0m     \u001b[38;5;28;01mraise\u001b[39;00m \u001b[38;5;167;01mValueError\u001b[39;00m(\n\u001b[1;32m    392\u001b[0m         \u001b[38;5;124mf\u001b[39m\u001b[38;5;124m\"\"\"\u001b[39m\u001b[38;5;124mFound chunk size mismatch:\u001b[39m\n\u001b[1;32m    393\u001b[0m \u001b[38;5;124m        at prefix \u001b[39m\u001b[38;5;132;01m{\u001b[39;00mv\u001b[38;5;132;01m}\u001b[39;00m\u001b[38;5;124m in iteration \u001b[39m\u001b[38;5;132;01m{\u001b[39;00mi\u001b[38;5;132;01m}\u001b[39;00m\u001b[38;5;124m (file \u001b[39m\u001b[38;5;132;01m{\u001b[39;00m\u001b[38;5;28mself\u001b[39m\u001b[38;5;241m.\u001b[39m_paths[i]\u001b[38;5;132;01m}\u001b[39;00m\u001b[38;5;124m)\u001b[39m\n\u001b[1;32m    394\u001b[0m \u001b[38;5;124m        new chunk: \u001b[39m\u001b[38;5;132;01m{\u001b[39;00mchunk_sizes[v]\u001b[38;5;132;01m}\u001b[39;00m\n\u001b[1;32m    395\u001b[0m \u001b[38;5;124m        chunks so far: \u001b[39m\u001b[38;5;132;01m{\u001b[39;00mzarray[\u001b[38;5;124m\"\u001b[39m\u001b[38;5;124mchunks\u001b[39m\u001b[38;5;124m\"\u001b[39m]\u001b[38;5;132;01m}\u001b[39;00m\u001b[38;5;124m\"\"\"\u001b[39m\n\u001b[1;32m    396\u001b[0m     )\n\u001b[1;32m    397\u001b[0m chunks \u001b[38;5;241m=\u001b[39m chunk_sizes[v]\n\u001b[1;32m    398\u001b[0m zattrs \u001b[38;5;241m=\u001b[39m ujson\u001b[38;5;241m.\u001b[39mloads(m\u001b[38;5;241m.\u001b[39mget(\u001b[38;5;124mf\u001b[39m\u001b[38;5;124m\"\u001b[39m\u001b[38;5;132;01m{\u001b[39;00mv\u001b[38;5;132;01m}\u001b[39;00m\u001b[38;5;124m/.zattrs\u001b[39m\u001b[38;5;124m\"\u001b[39m, \u001b[38;5;124m\"\u001b[39m\u001b[38;5;132;01m{}\u001b[39;00m\u001b[38;5;124m\"\u001b[39m))\n",
      "\u001b[0;31mValueError\u001b[0m: Found chunk size mismatch:\n                        at prefix time_bounds in iteration 1 (file file:///g/data/tm70/ds0092/projects/dev_data_querying/cosima_intake/test_data/ds1.json)\n                        new chunk: [12, 2]\n                        chunks so far: [1, 2]"
     ]
    }
   ],
   "source": [
    "json_list = fs.glob(\"./test_data/*.json\")\n",
    "\n",
    "mzz = combine.MultiZarrToZarr(\n",
    "    json_list,\n",
    "    concat_dims='time',\n",
    "    identical_dims=[\n",
    "        \"xt_ocean\", \n",
    "        \"yt_ocean\", \n",
    "        \"nv\"\n",
    "     ],\n",
    ").translate()"
   ]
  },
  {
   "cell_type": "markdown",
   "id": "76371b00-0f1c-4779-9d7f-7952863f6297",
   "metadata": {
    "tags": []
   },
   "source": [
    "## Write to a json file"
   ]
  },
  {
   "cell_type": "code",
   "execution_count": null,
   "id": "d49cbe37-fac1-4718-b43e-d530a91cd6e8",
   "metadata": {},
   "outputs": [],
   "source": [
    "with open(\"./intermittent.json\", 'wb') as f:\n",
    "    f.write(ujson.dumps(mzz).encode());\n",
    "    \n",
    "for json in json_list:\n",
    "    os.remove(json)"
   ]
  },
  {
   "cell_type": "markdown",
   "id": "b21ed9e8-0f56-4d87-a165-521d69301299",
   "metadata": {},
   "source": [
    "# Compute on the reference dataset"
   ]
  },
  {
   "cell_type": "code",
   "execution_count": null,
   "id": "de75ec87-f24a-481f-bad9-d68ea2401a04",
   "metadata": {},
   "outputs": [],
   "source": [
    "%%time\n",
    "\n",
    "m = fsspec.get_mapper(\n",
    "    'reference://', \n",
    "    fo=\"./intermittent.json\", \n",
    "    remote_protocol=\"file\"\n",
    ")\n",
    "\n",
    "ds = xr.open_dataset(\n",
    "    m,\n",
    "    engine='zarr', \n",
    "    backend_kwargs={\"consolidated\": False},\n",
    "    chunks=\"auto\",\n",
    "    # decode_times=False\n",
    ")"
   ]
  },
  {
   "cell_type": "code",
   "execution_count": null,
   "id": "85c4b0ed-9376-4090-9fa6-e779f043e9e2",
   "metadata": {},
   "outputs": [],
   "source": [
    "def plot_vars(ds):\n",
    "    dsm = ds.mean([\"xt_ocean\", \"yt_ocean\"])\n",
    "    dsm[\"mld\"].plot(label=\"mld\")\n",
    "    (dsm[\"surface_pot_temp\"]-273.15).plot(label=\"surface_pot_temp\")\n",
    "    plt.ylabel(\"\")\n",
    "    plt.legend()"
   ]
  },
  {
   "cell_type": "code",
   "execution_count": null,
   "id": "c13144a2-eca6-4802-a068-4170dc1f4692",
   "metadata": {},
   "outputs": [],
   "source": [
    "plot_vars(ds)"
   ]
  }
 ],
 "metadata": {
  "kernelspec": {
   "display_name": "Python (kerchunk-PR311)",
   "language": "python",
   "name": "kerchunk-pr311"
  },
  "language_info": {
   "codemirror_mode": {
    "name": "ipython",
    "version": 3
   },
   "file_extension": ".py",
   "mimetype": "text/x-python",
   "name": "python",
   "nbconvert_exporter": "python",
   "pygments_lexer": "ipython3",
   "version": "3.11.0"
  }
 },
 "nbformat": 4,
 "nbformat_minor": 5
}
