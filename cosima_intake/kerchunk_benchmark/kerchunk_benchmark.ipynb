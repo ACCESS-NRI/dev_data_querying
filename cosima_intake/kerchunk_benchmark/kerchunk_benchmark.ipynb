{
 "cells": [
  {
   "cell_type": "markdown",
   "id": "40bb2d0d-b8f3-45a8-a07c-1af0cd4ac6ab",
   "metadata": {},
   "source": [
    "# Benchmarking kerchunk improvements\n",
    "\n",
    "- JSON reference file\n",
    "- Parquet reference file generated using `refs_to_dataframe` in [kerchunk=0.1.0](https://github.com/fsspec/kerchunk/blob/6609486399626fc3120ae264b0aaaad4490da597/kerchunk/df.py#L28)\n",
    "    - use environment `kerchunk-debug`\n",
    "- Parquet reference file generated using `refs_to_dataframe` in [this PR](https://github.com/agoodm/kerchunk/blob/7ec1855c86fee1f4bc2122eefd274ad11d96ce45/kerchunk/df.py#L101) which builds on [this PR](https://github.com/fsspec/kerchunk/pull/298) \n",
    "    - use environment `kerchunk-PR298`"
   ]
  },
  {
   "cell_type": "code",
   "execution_count": null,
   "id": "1630084f-dc12-4673-a26d-632fd707e0e6",
   "metadata": {},
   "outputs": [],
   "source": []
  }
 ],
 "metadata": {
  "kernelspec": {
   "display_name": "Python (kerchunk-PR298)",
   "language": "python",
   "name": "kerchunk-pr298"
  },
  "language_info": {
   "codemirror_mode": {
    "name": "ipython",
    "version": 3
   },
   "file_extension": ".py",
   "mimetype": "text/x-python",
   "name": "python",
   "nbconvert_exporter": "python",
   "pygments_lexer": "ipython3",
   "version": "3.11.0"
  }
 },
 "nbformat": 4,
 "nbformat_minor": 5
}
