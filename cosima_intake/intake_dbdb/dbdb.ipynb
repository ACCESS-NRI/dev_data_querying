{
 "cells": [
  {
   "cell_type": "markdown",
   "id": "e4f46cfe-13df-4013-ae1c-6636249d70ae",
   "metadata": {},
   "source": [
    "# A database of databases\n",
    "\n",
    "Exploring the functionality of an intake catalogue of intake-esm catalogues using COSIMA data as a test case.\n",
    "\n",
    "Concept:\n",
    "\n",
    "One intake-esm catalogue per \"experiment\" and another catalogue for finding relevant experiments.\n",
    "\n",
    "Useful links:\n",
    "\n",
    "- https://github.com/pangeo-data/pangeo-datastore"
   ]
  },
  {
   "cell_type": "code",
   "execution_count": 1,
   "id": "8c659433-0c12-4512-8d06-4f345f361772",
   "metadata": {},
   "outputs": [
    {
     "name": "stdout",
     "output_type": "stream",
     "text": [
      "/g/data/tm70/ds0092/projects/dev_data_querying/cosima_intake/intake_dbdb\n"
     ]
    }
   ],
   "source": [
    "%cd /g/data/tm70/ds0092/projects/dev_data_querying/cosima_intake/intake_dbdb"
   ]
  },
  {
   "cell_type": "code",
   "execution_count": 2,
   "id": "7ebce299-2858-4ead-ac57-3b8b0b127dbc",
   "metadata": {},
   "outputs": [],
   "source": [
    "import os\n",
    "\n",
    "import pathlib\n",
    "\n",
    "import intake\n",
    "\n",
    "import xarray as xr"
   ]
  },
  {
   "cell_type": "markdown",
   "id": "83d90b0a-3150-495c-9bcc-afaf472b97ae",
   "metadata": {},
   "source": [
    "# Start simple with an intake catalogue of intake-esm catalogues. This won't really be searchable\n",
    "\n",
    "As a \"simple\" case, let's use a few cycles of the access-om2-025 `025deg_jra55_iaf_omip2` runs"
   ]
  },
  {
   "cell_type": "code",
   "execution_count": 3,
   "id": "39ad7ab9-b53f-4a92-9d64-58b9c98fe92d",
   "metadata": {},
   "outputs": [],
   "source": [
    "index_directories = [\n",
    "    \"/g/data/ik11/outputs/access-om2-025/025deg_jra55_iaf_omip2_cycle1\",\n",
    "    \"/g/data/ik11/outputs/access-om2-025/025deg_jra55_iaf_omip2_cycle2\",\n",
    "    \"/g/data/ik11/outputs/access-om2-025/025deg_jra55_iaf_omip2_cycle3\"\n",
    "]"
   ]
  },
  {
   "cell_type": "markdown",
   "id": "7accecd2-aee9-49c5-96a3-f05fe2c23857",
   "metadata": {},
   "source": [
    "## Build intake-esm catalogues"
   ]
  },
  {
   "cell_type": "code",
   "execution_count": 4,
   "id": "70ff9ca0-6e81-490b-9bf7-17b2bb8cbf13",
   "metadata": {},
   "outputs": [
    {
     "name": "stderr",
     "output_type": "stream",
     "text": [
      "/g/data/tm70/ds0092/software/mambaforge/envs/intake-esm-dev/lib/python3.11/site-packages/fastprogress/fastprogress.py:107: UserWarning: Couldn't import ipywidgets properly, progress bar will use console behavior\n",
      "  warn(\"Couldn't import ipywidgets properly, progress bar will use console behavior\")\n"
     ]
    }
   ],
   "source": [
    "from ecgtools import Builder\n",
    "\n",
    "# from ecgtools_parsers import cosima_parser"
   ]
  },
  {
   "cell_type": "code",
   "execution_count": 5,
   "id": "57277ec4-a4ff-49b4-9367-3c08a02d75ab",
   "metadata": {},
   "outputs": [],
   "source": [
    "b = Builder(\n",
    "    index_directories,\n",
    "    depth=3,\n",
    "    exclude_patterns=[\"*/restart*/*\", \"*o2i.nc\"],\n",
    "    include_patterns=[\"*.nc\"],\n",
    "    joblib_parallel_kwargs={\"n_jobs\": 4},\n",
    "    )"
   ]
  },
  {
   "cell_type": "code",
   "execution_count": 8,
   "id": "528e559a-cb39-4863-ae96-19371e6bf6e0",
   "metadata": {
    "tags": []
   },
   "outputs": [],
   "source": [
    "import pathlib\n",
    "import traceback\n",
    "import cftime\n",
    "from ecgtools.builder import INVALID_ASSET, TRACEBACK\n",
    "\n",
    "def cosima_parser(file):\n",
    "    \"\"\"Quick hacked parser for COSIMA datasets\"\"\"\n",
    "    def _get_timeinfo(ds):\n",
    "        \"\"\"\n",
    "        Stolen and slightly adapted from cosima cookbook \n",
    "        https://github.com/COSIMA/cosima-cookbook/blob/master/cosima_cookbook/database.py#L565\n",
    "        \"\"\"\n",
    "        time_dim = \"time\" # TODO: this probably shouldn't be hardcoded\n",
    "        if time_dim is None:\n",
    "            return None\n",
    "\n",
    "        time_var = ds[time_dim]\n",
    "        has_bounds = hasattr(time_var, \"bounds\") and time_var.bounds in ds.variables\n",
    "        \n",
    "        def _todate(t):\n",
    "            return cftime.num2date(t, time_var.units, calendar=time_var.calendar)\n",
    "    \n",
    "        if has_bounds:\n",
    "            bounds_var = ds.variables[time_var.bounds]\n",
    "            start_time = _todate(bounds_var[0, 0])\n",
    "            end_time = _todate(bounds_var[-1, 1])\n",
    "        else:\n",
    "            start_time = _todate(time_var[0])\n",
    "            end_time = _todate(time_var[-1])\n",
    "        \n",
    "        if len(time_var) > 1 or has_bounds:\n",
    "            if has_bounds:\n",
    "                next_time = _todate(bounds_var[0, 1])\n",
    "            else:\n",
    "                next_time = _todate(time_var[1])\n",
    "\n",
    "            dt = next_time - start_time\n",
    "            if dt.days >= 365:\n",
    "                years = round(dt.days / 365)\n",
    "                frequency = f\"{years} yearly\"\n",
    "            elif dt.days >= 28:\n",
    "                months = round(dt.days / 30)\n",
    "                frequency = f\"{months} monthly\"\n",
    "            elif dt.days >= 1:\n",
    "                frequency = f\"{dt.days} daily\"\n",
    "            else:\n",
    "                frequency = f\"{dt.seconds // 3600} hourly\"\n",
    "        else:\n",
    "            # single time value in this file and no averaging\n",
    "            frequency = \"static\"\n",
    "            \n",
    "        return start_time.strftime(\"%Y-%m-%d\"), end_time.strftime(\"%Y-%m-%d\"), frequency\n",
    "        \n",
    "    path = pathlib.Path(file)\n",
    "    \n",
    "    try:\n",
    "        path_parts = path.parts\n",
    "        filename = path.stem\n",
    "        # TODO: this can be done better\n",
    "        # First 5 parts are /,g,data,ik11,outputs,access-om2\n",
    "        experiment = path_parts[6]\n",
    "        output = path_parts[7]\n",
    "        realm = path_parts[8]\n",
    "\n",
    "        with xr.open_dataset(file, chunks={}, decode_times=False) as ds:\n",
    "            variable_list = [var for var in ds if 'long_name' in ds[var].attrs]\n",
    "\n",
    "        info = {\n",
    "                \"experiment\": experiment,\n",
    "                \"output\": output,\n",
    "                \"realm\": realm,\n",
    "                \"variables\": variable_list,\n",
    "                \"filename\": filename,\n",
    "                \"path\": str(file),\n",
    "            }\n",
    "        info[\"start_time\"], info[\"end_time\"], info[\"frequency\"] = _get_timeinfo(ds)\n",
    "\n",
    "        return info\n",
    "\n",
    "    except Exception:\n",
    "        return {INVALID_ASSET: file, TRACEBACK: traceback.format_exc()}"
   ]
  },
  {
   "cell_type": "code",
   "execution_count": 9,
   "id": "a1141aba-a1f5-43dd-8f30-d69d4e24ea23",
   "metadata": {
    "tags": []
   },
   "outputs": [
    {
     "name": "stdout",
     "output_type": "stream",
     "text": [
      "CPU times: user 6.11 s, sys: 2.31 s, total: 8.42 s\n",
      "Wall time: 4min 4s\n"
     ]
    }
   ],
   "source": [
    "%%time\n",
    "\n",
    "b = b.build(parsing_func=cosima_parser)"
   ]
  },
  {
   "cell_type": "code",
   "execution_count": 36,
   "id": "fc881ed5-66dc-45b0-b55b-52951d6da2f9",
   "metadata": {},
   "outputs": [
    {
     "name": "stdout",
     "output_type": "stream",
     "text": [
      "CPU times: user 483 ms, sys: 1.35 s, total: 1.84 s\n",
      "Wall time: 8.65 s\n"
     ]
    }
   ],
   "source": [
    "%%time\n",
    "\n",
    "for index_directory in index_directories:\n",
    "    b = Builder(\n",
    "        [test_directory],\n",
    "        depth=3,\n",
    "        exclude_patterns=[\"*/restart*/*\", \"*o2i.nc\"],\n",
    "        include_patterns=[\"*.nc\"],\n",
    "        joblib_parallel_kwargs={\"n_jobs\": 4},\n",
    "    )\n",
    "\n",
    "    cc_builder = cc_builder.build(parsing_func=parse_cc)\n",
    "\n",
    "    cc_builder.save(\n",
    "        f\"{os.path.basename(index_directory)}.csv\",\n",
    "        path_column_name='path',\n",
    "        variable_column_name='variables',\n",
    "        data_format=\"netcdf\",\n",
    "        # Which attributes to groupby when reading in variables using intake-esm\n",
    "        groupby_attrs=[\"experiment\", \"filename\"],\n",
    "        aggregations=[\n",
    "            {\n",
    "                \"type\": \"join_existing\",\n",
    "                \"attribute_name\": \"start_time\",\n",
    "                \"options\": {\"dim\": \"time\", \"combine\": \"by_coords\"},\n",
    "            }\n",
    "        ],\n",
    "    )"
   ]
  },
  {
   "cell_type": "code",
   "execution_count": null,
   "id": "e63089e7-2572-4e7f-856f-d1f3b454cdf0",
   "metadata": {},
   "outputs": [],
   "source": []
  }
 ],
 "metadata": {
  "kernelspec": {
   "display_name": "Python (intake-esm-dev)",
   "language": "python",
   "name": "intake-esm-dev"
  },
  "language_info": {
   "codemirror_mode": {
    "name": "ipython",
    "version": 3
   },
   "file_extension": ".py",
   "mimetype": "text/x-python",
   "name": "python",
   "nbconvert_exporter": "python",
   "pygments_lexer": "ipython3",
   "version": "3.11.0"
  }
 },
 "nbformat": 4,
 "nbformat_minor": 5
}
